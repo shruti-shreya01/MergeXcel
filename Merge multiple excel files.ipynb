{
 "cells": [
  {
   "cell_type": "code",
   "execution_count": 1,
   "id": "ac84c1b7",
   "metadata": {},
   "outputs": [
    {
     "name": "stdout",
     "output_type": "stream",
     "text": [
      "Requirement already satisfied: pandas in c:\\users\\shrey\\anaconda3\\lib\\site-packages (2.0.3)\n",
      "Requirement already satisfied: openpyxl in c:\\users\\shrey\\anaconda3\\lib\\site-packages (3.0.10)\n",
      "Requirement already satisfied: python-dateutil>=2.8.2 in c:\\users\\shrey\\anaconda3\\lib\\site-packages (from pandas) (2.8.2)\n",
      "Requirement already satisfied: pytz>=2020.1 in c:\\users\\shrey\\anaconda3\\lib\\site-packages (from pandas) (2023.3.post1)\n",
      "Requirement already satisfied: tzdata>=2022.1 in c:\\users\\shrey\\anaconda3\\lib\\site-packages (from pandas) (2023.3)\n",
      "Requirement already satisfied: numpy>=1.21.0 in c:\\users\\shrey\\anaconda3\\lib\\site-packages (from pandas) (1.24.3)\n",
      "Requirement already satisfied: et_xmlfile in c:\\users\\shrey\\anaconda3\\lib\\site-packages (from openpyxl) (1.1.0)\n",
      "Requirement already satisfied: six>=1.5 in c:\\users\\shrey\\anaconda3\\lib\\site-packages (from python-dateutil>=2.8.2->pandas) (1.16.0)\n",
      "Note: you may need to restart the kernel to use updated packages.\n"
     ]
    }
   ],
   "source": [
    "pip install pandas openpyxl\n"
   ]
  },
  {
   "cell_type": "code",
   "execution_count": 4,
   "id": "08d74fef",
   "metadata": {},
   "outputs": [
    {
     "name": "stdout",
     "output_type": "stream",
     "text": [
      "All files have been merged into 'merged_files.xlsx'\n"
     ]
    }
   ],
   "source": [
    "import pandas as pd\n",
    "import os\n",
    "\n",
    "# Define the directory where the files will be saved\n",
    "directory = r\"C:\\Users\\shrey\\Downloads\\Sample excel files\"  # Use raw string or forward slashes\n",
    "\n",
    "# List all Excel files in the directory\n",
    "files = [f for f in os.listdir(directory) if f.endswith('.xlsx')]\n",
    "\n",
    "# Initialize a dictionary to hold dataframes for each sheet\n",
    "all_sheets = {}\n",
    "\n",
    "# Loop through all files\n",
    "for file in files:\n",
    "    file_path = os.path.join(directory, file)\n",
    "    \n",
    "    # Read the Excel file\n",
    "    xl = pd.ExcelFile(file_path)\n",
    "    \n",
    "    # Process each sheet in the file\n",
    "    for sheet_name in xl.sheet_names:\n",
    "        if sheet_name not in all_sheets:\n",
    "            all_sheets[sheet_name] = []\n",
    "        df = xl.parse(sheet_name)\n",
    "        all_sheets[sheet_name].append(df)\n",
    "\n",
    "# Save merged data to a new Excel file\n",
    "with pd.ExcelWriter('merged_files.xlsx', engine='openpyxl') as writer:\n",
    "    for sheet_name, dataframes in all_sheets.items():\n",
    "        # Concatenate all dataframes for the sheet\n",
    "        merged_df = pd.concat(dataframes, ignore_index=True)\n",
    "        \n",
    "        # Write the dataframe to a new sheet in the Excel file\n",
    "        merged_df.to_excel(writer, sheet_name=sheet_name, index=False)\n",
    "\n",
    "print(\"All files have been merged into 'merged_files.xlsx'\")\n"
   ]
  },
  {
   "cell_type": "code",
   "execution_count": null,
   "id": "86a95bed",
   "metadata": {},
   "outputs": [],
   "source": []
  }
 ],
 "metadata": {
  "kernelspec": {
   "display_name": "Python 3 (ipykernel)",
   "language": "python",
   "name": "python3"
  },
  "language_info": {
   "codemirror_mode": {
    "name": "ipython",
    "version": 3
   },
   "file_extension": ".py",
   "mimetype": "text/x-python",
   "name": "python",
   "nbconvert_exporter": "python",
   "pygments_lexer": "ipython3",
   "version": "3.11.5"
  }
 },
 "nbformat": 4,
 "nbformat_minor": 5
}
